{
  "nbformat": 4,
  "nbformat_minor": 0,
  "metadata": {
    "colab": {
      "name": "Human_Activity_Recognition_LSTM.ipynb",
      "version": "0.3.2",
      "provenance": [],
      "collapsed_sections": []
    },
    "kernelspec": {
      "name": "python3",
      "display_name": "Python 3"
    }
  },
  "cells": [
    {
      "metadata": {
        "id": "BRAARWxAMxzB",
        "colab_type": "code",
        "colab": {}
      },
      "cell_type": "code",
      "source": [
        "import warnings\n",
        "warnings.filterwarnings('ignore')\n",
        "%matplotlib inline\n",
        "import pandas as pd\n",
        "import numpy as np\n",
        "import os\n",
        "import pickle as pkl\n",
        "import seaborn as sns\n",
        "import matplotlib.pyplot as plt\n",
        "import prettytable as pt\n",
        "np.random.seed(0)"
      ],
      "execution_count": 0,
      "outputs": []
    },
    {
      "metadata": {
        "id": "RyNT4nHaNmMp",
        "colab_type": "code",
        "outputId": "797f411d-aa32-4244-c0c4-0f4a5672591e",
        "colab": {
          "base_uri": "https://localhost:8080/",
          "height": 34
        }
      },
      "cell_type": "code",
      "source": [
        "from google.colab import drive\n",
        "drive.mount('/content/gdrive')"
      ],
      "execution_count": 0,
      "outputs": [
        {
          "output_type": "stream",
          "text": [
            "Drive already mounted at /content/gdrive; to attempt to forcibly remount, call drive.mount(\"/content/gdrive\", force_remount=True).\n"
          ],
          "name": "stdout"
        }
      ]
    },
    {
      "metadata": {
        "id": "BjsVRg67OaJ7",
        "colab_type": "code",
        "colab": {}
      },
      "cell_type": "code",
      "source": [
        "path = '/content/gdrive/My Drive/Colab Notebooks/Human Activity Recognition/HAR'\n",
        "os.chdir(path)"
      ],
      "execution_count": 0,
      "outputs": []
    },
    {
      "metadata": {
        "id": "V36PKdtRO4Cs",
        "colab_type": "code",
        "outputId": "8895465e-d5d4-480e-e230-442584f7a8e7",
        "colab": {
          "base_uri": "https://localhost:8080/",
          "height": 102
        }
      },
      "cell_type": "code",
      "source": [
        "!ls"
      ],
      "execution_count": 0,
      "outputs": [
        {
          "output_type": "stream",
          "text": [
            "grid_result.pkl\t\t     t-sne_perp_20_iter_1000.png\n",
            "HAR_EDA.ipynb\t\t     t-sne_perp_2_iter_1000.png\n",
            "HAR_LSTM.ipynb\t\t     t-sne_perp_50_iter_1000.png\n",
            "HAR_PREDICTION_MODELS.ipynb  t-sne_perp_5_iter_1000.png\n",
            "t-sne_perp_10_iter_1000.png  UCI_HAR_Dataset\n"
          ],
          "name": "stdout"
        }
      ]
    },
    {
      "metadata": {
        "id": "_vmzqoC4M1l6",
        "colab_type": "code",
        "colab": {}
      },
      "cell_type": "code",
      "source": [
        "# Activities are the class labels\n",
        "# It is a 6 class classification\n",
        "ACTIVITIES = {\n",
        "    0: 'WALKING',\n",
        "    1: 'WALKING_UPSTAIRS',\n",
        "    2: 'WALKING_DOWNSTAIRS',\n",
        "    3: 'SITTING',\n",
        "    4: 'STANDING',\n",
        "    5: 'LAYING',\n",
        "}"
      ],
      "execution_count": 0,
      "outputs": []
    },
    {
      "metadata": {
        "id": "RdLnaqt5SYWY",
        "colab_type": "code",
        "colab": {}
      },
      "cell_type": "code",
      "source": [
        "# Raw data signals\n",
        "# Signals are from Accelerometer and Gyroscope\n",
        "# The signals are in x,y,z directions\n",
        "# Sensor signals are filtered to have only body acceleration\n",
        "# excluding the acceleration due to gravity\n",
        "# Triaxial acceleration from the accelerometer is total acceleration\n",
        "SIGNALS = [\n",
        "    \"body_acc_x\",\n",
        "    \"body_acc_y\",\n",
        "    \"body_acc_z\",\n",
        "    \"body_gyro_x\",\n",
        "    \"body_gyro_y\",\n",
        "    \"body_gyro_z\",\n",
        "    \"total_acc_x\",\n",
        "    \"total_acc_y\",\n",
        "    \"total_acc_z\"\n",
        "]"
      ],
      "execution_count": 0,
      "outputs": []
    },
    {
      "metadata": {
        "id": "RDOZXk0eNBYc",
        "colab_type": "code",
        "colab": {}
      },
      "cell_type": "code",
      "source": [
        "def _read_csv(filepath):\n",
        "    return pd.read_csv(filepath, delim_whitespace=True, header=None)"
      ],
      "execution_count": 0,
      "outputs": []
    },
    {
      "metadata": {
        "id": "YXkAdPNUNfZ1",
        "colab_type": "code",
        "colab": {}
      },
      "cell_type": "code",
      "source": [
        "# Utility function to load the load\n",
        "def load_signals(subset):\n",
        "    signals_data = []\n",
        "\n",
        "    for signal in SIGNALS:\n",
        "        path= f'UCI_HAR_Dataset/{subset}/Inertial Signals/{signal}_{subset}.txt'\n",
        "        signals_data.append(\n",
        "            _read_csv(path).as_matrix()\n",
        "        ) \n",
        "\n",
        "    # Transpose is used to change the dimensionality of the output,\n",
        "    # aggregating the signals by combination of sample/timestep.\n",
        "    # Resultant shape is (\n",
        "    # 7352 train/2947 test samples, 128 timesteps, 9 signals)\n",
        "    # original shape of signals data is 9 * 7352 * 128 since\n",
        "    # csv read results in 7352 * 128 size dataframe/matrix.\n",
        "    # so we just swap the index value order.\n",
        "    # 0 --> 2, 2--> 1, 1--> 0\n",
        "    \n",
        "    return np.transpose(signals_data, (1, 2, 0))"
      ],
      "execution_count": 0,
      "outputs": []
    },
    {
      "metadata": {
        "id": "SrtEPE_tP-bW",
        "colab_type": "code",
        "colab": {}
      },
      "cell_type": "code",
      "source": [
        "def load_y(subset):\n",
        "    \"\"\"\n",
        "    The objective that we are trying to predict is a integer, from 1 to 6,\n",
        "    that represents a human activity. We return a binary representation of \n",
        "    every sample objective as a 6 bits vector using One Hot Encoding\n",
        "    (https://pandas.pydata.org/pandas-docs/stable/generated\n",
        "    /pandas.get_dummies.html)\n",
        "    \"\"\"\n",
        "    filename = f'UCI_HAR_Dataset/{subset}/y_{subset}.txt'\n",
        "    y = _read_csv(filename)[0]\n",
        "\n",
        "    return pd.get_dummies(y).as_matrix()"
      ],
      "execution_count": 0,
      "outputs": []
    },
    {
      "metadata": {
        "id": "t189wF27QDLy",
        "colab_type": "code",
        "colab": {}
      },
      "cell_type": "code",
      "source": [
        "def load_data():\n",
        "    \"\"\"\n",
        "    Obtain the dataset from multiple files.\n",
        "    Returns: X_train, X_test, y_train, y_test\n",
        "    \"\"\"\n",
        "    X_train, X_test = load_signals('train'), load_signals('test')\n",
        "    y_train, y_test = load_y('train'), load_y('test')\n",
        "\n",
        "    return X_train, X_test, y_train, y_test"
      ],
      "execution_count": 0,
      "outputs": []
    },
    {
      "metadata": {
        "id": "1dZy_fQR5G1U",
        "colab_type": "code",
        "colab": {}
      },
      "cell_type": "code",
      "source": [
        "# Plot function for weight distribution\n",
        "\n",
        "def plot_weight_distribution(weights, hidden_layers=None):\n",
        "    colors = ['b', 'r', 'g', 'y', 'm']\n",
        "    fig = plt.figure()\n",
        "    plt.title(\"Training Weights Distribution\")\n",
        "    \n",
        "    for i in range(0, hidden_layers+1):\n",
        "        layer_weights = weights[i*2].flatten().reshape(-1, 1)\n",
        "        plt.subplot(1, hidden_layers+1, i+1)\n",
        "        plt.title(\"Trained Weights\")\n",
        "        ax = sns.violinplot(y=layer_weights, color=colors[i%5])\n",
        "        if i == hidden_layers:\n",
        "            plt.xlabel(\"Out Layer\")\n",
        "        else:\n",
        "            plt.xlabel(\"Layer {}\".format(i+1))\n",
        "    plt.show()"
      ],
      "execution_count": 0,
      "outputs": []
    },
    {
      "metadata": {
        "id": "Gq6k9ENZ5QXD",
        "colab_type": "code",
        "colab": {}
      },
      "cell_type": "code",
      "source": [
        "# Helpers for plotting losses\n",
        "def plot_dynamic(x, vy, ty, ax, fig, colors=['b']):\n",
        "    ax.plot(x, vy, 'r', label='Validation Loss')\n",
        "    ax.plot(x, ty, 'b', label='Train Loss')\n",
        "    plt.legend()\n",
        "    plt.grid()\n",
        "    fig.canvas.draw()\n",
        "\n",
        "# Plotting Training/Validation Loss\n",
        "\n",
        "def plot_loss(history, n_epochs):\n",
        "    fig, ax = plt.subplots(1, 1)\n",
        "    ax.set_xlabel(\"Epochs\")\n",
        "    ax.set_ylabel(\"Softmax Cross Entropy Loss\")\n",
        "    \n",
        "    x = list(range(1, n_epochs+1))\n",
        "    vy = history.history['val_loss']\n",
        "    ty = history.history['loss']\n",
        "    \n",
        "    plot_dynamic(x, vy, ty, ax, fig)"
      ],
      "execution_count": 0,
      "outputs": []
    },
    {
      "metadata": {
        "id": "87QvUCsrQ633",
        "colab_type": "code",
        "colab": {}
      },
      "cell_type": "code",
      "source": [
        "# Utility function to print the confusion matrix\n",
        "def confusion_matrix(Y_true, Y_pred):\n",
        "    Y_true = pd.Series([ACTIVITIES[y] for y in np.argmax(Y_true, axis=1)])\n",
        "    Y_pred = pd.Series([ACTIVITIES[y] for y in np.argmax(Y_pred, axis=1)])\n",
        "\n",
        "    return pd.crosstab(Y_true, Y_pred, rownames=['True'], colnames=['Pred'])"
      ],
      "execution_count": 0,
      "outputs": []
    },
    {
      "metadata": {
        "id": "ZFSjPS7KTtKz",
        "colab_type": "code",
        "colab": {}
      },
      "cell_type": "code",
      "source": [
        "def print_results(data):\n",
        "    result = pt.PrettyTable(hrules=pt.ALL, vrules=pt.ALL, padding_width=5)\n",
        "    result.field_names = list(data.columns)\n",
        "    for i in range(0, data.shape[0]):\n",
        "        result.add_row(data.iloc[i])\n",
        "    print(result)"
      ],
      "execution_count": 0,
      "outputs": []
    },
    {
      "metadata": {
        "id": "zVpo_zRrT8ON",
        "colab_type": "code",
        "colab": {}
      },
      "cell_type": "code",
      "source": [
        "results = pd.DataFrame(columns=['Model', 'Hidden Layers', \n",
        "                                'Train Loss','Train Accuracy(%)', \n",
        "                                'Test Loss', 'Test Accuracy(%)'])"
      ],
      "execution_count": 0,
      "outputs": []
    },
    {
      "metadata": {
        "id": "A0UxHHSsVfQP",
        "colab_type": "code",
        "colab": {}
      },
      "cell_type": "code",
      "source": [
        "gridcv_result = pd.DataFrame(columns=['Parameter', 'Parameter_Values', \n",
        "                                    'Best Param Value', 'Best Score', 'Loss'])"
      ],
      "execution_count": 0,
      "outputs": []
    },
    {
      "metadata": {
        "id": "jeovPqiebmmG",
        "colab_type": "code",
        "colab": {}
      },
      "cell_type": "code",
      "source": [
        "hyperparam_used = pd.DataFrame(columns=['Model','LSTM units', 'Epochs', \n",
        "                                        'Batch Size', 'Optimizer', \n",
        "                                        'Dropout', 'KernelInit'])"
      ],
      "execution_count": 0,
      "outputs": []
    },
    {
      "metadata": {
        "id": "qBsQ2mvIQJBk",
        "colab_type": "code",
        "colab": {}
      },
      "cell_type": "code",
      "source": [
        "# Building an LSTM model\n",
        "\n",
        "from keras.models import Sequential\n",
        "from keras.layers import Dense, Dropout, LSTM\n",
        "\n",
        "from keras.wrappers.scikit_learn import KerasClassifier\n",
        "from sklearn.model_selection import GridSearchCV\n",
        "from keras.layers.normalization import BatchNormalization"
      ],
      "execution_count": 0,
      "outputs": []
    },
    {
      "metadata": {
        "id": "-TRrn5jiY8bp",
        "colab_type": "code",
        "colab": {}
      },
      "cell_type": "code",
      "source": [
        "# Initializing parameters\n",
        "epochs = 30\n",
        "batch_size = 16\n",
        "n_hidden = 32\n",
        "\n",
        "# Utility function to count the number of classes\n",
        "def _count_classes(y):\n",
        "    return len(set([tuple(category) for category in y]))"
      ],
      "execution_count": 0,
      "outputs": []
    },
    {
      "metadata": {
        "id": "djLdmbIPZFVh",
        "colab_type": "code",
        "colab": {}
      },
      "cell_type": "code",
      "source": [
        "# Loading the train and test data\n",
        "X_train, X_test, Y_train, Y_test = load_data()"
      ],
      "execution_count": 0,
      "outputs": []
    },
    {
      "metadata": {
        "id": "mjxrtMZIZOkH",
        "colab_type": "code",
        "outputId": "1cb9013e-976b-4c9c-d63a-ea6c7c07499b",
        "colab": {
          "base_uri": "https://localhost:8080/",
          "height": 34
        }
      },
      "cell_type": "code",
      "source": [
        "timesteps = len(X_train[0])\n",
        "input_dim = len(X_train[0][0])\n",
        "n_classes = _count_classes(Y_train)\n",
        "\n",
        "print(timesteps, input_dim, len(X_train))"
      ],
      "execution_count": 0,
      "outputs": [
        {
          "output_type": "stream",
          "text": [
            "128 9 7352\n"
          ],
          "name": "stdout"
        }
      ]
    },
    {
      "metadata": {
        "id": "0J7aS3BLZb4k",
        "colab_type": "code",
        "outputId": "9495d486-659f-4f8a-c7b0-8b70f9fd67b7",
        "colab": {
          "base_uri": "https://localhost:8080/",
          "height": 238
        }
      },
      "cell_type": "code",
      "source": [
        "# Initiliazing the sequential model\n",
        "model = Sequential()\n",
        "# Configuring the parameters\n",
        "model.add(LSTM(n_hidden, input_shape=(timesteps, input_dim)))\n",
        "# Adding a dropout layer\n",
        "model.add(Dropout(0.5))\n",
        "# Adding a dense output layer with sigmoid activation\n",
        "model.add(Dense(n_classes, activation='sigmoid'))\n",
        "model.summary()"
      ],
      "execution_count": 0,
      "outputs": [
        {
          "output_type": "stream",
          "text": [
            "_________________________________________________________________\n",
            "Layer (type)                 Output Shape              Param #   \n",
            "=================================================================\n",
            "lstm_51 (LSTM)               (None, 32)                5376      \n",
            "_________________________________________________________________\n",
            "dropout_50 (Dropout)         (None, 32)                0         \n",
            "_________________________________________________________________\n",
            "dense_50 (Dense)             (None, 6)                 198       \n",
            "=================================================================\n",
            "Total params: 5,574\n",
            "Trainable params: 5,574\n",
            "Non-trainable params: 0\n",
            "_________________________________________________________________\n"
          ],
          "name": "stdout"
        }
      ]
    },
    {
      "metadata": {
        "id": "J3zmzbn1ZgyM",
        "colab_type": "code",
        "colab": {}
      },
      "cell_type": "code",
      "source": [
        "# Compiling the model\n",
        "model.compile(loss='categorical_crossentropy',\n",
        "              optimizer='rmsprop',\n",
        "              metrics=['accuracy'])"
      ],
      "execution_count": 0,
      "outputs": []
    },
    {
      "metadata": {
        "id": "--Yo8UsxZyWv",
        "colab_type": "code",
        "colab": {}
      },
      "cell_type": "code",
      "source": [
        "# Training the model\n",
        "history = model.fit(X_train,\n",
        "          Y_train,\n",
        "          batch_size=batch_size,\n",
        "          validation_data=(X_test, Y_test),\n",
        "          epochs=epochs, verbose=0)"
      ],
      "execution_count": 0,
      "outputs": []
    },
    {
      "metadata": {
        "id": "oCLaA3IfrP8t",
        "colab_type": "code",
        "outputId": "a5f07269-b8e3-497d-c0e3-29a1c936a2aa",
        "colab": {
          "base_uri": "https://localhost:8080/",
          "height": 51
        }
      },
      "cell_type": "code",
      "source": [
        "print('Training Accuracy : {0:.2f}%'.format(history.history['acc'][-1]*100))\n",
        "\n",
        "print('Training Loss : {0:.6f}'.format(history.history['loss'][-2]))"
      ],
      "execution_count": 0,
      "outputs": [
        {
          "output_type": "stream",
          "text": [
            "Training Accuracy : 94.63%\n",
            "Training Loss : 0.155331\n"
          ],
          "name": "stdout"
        }
      ]
    },
    {
      "metadata": {
        "id": "bD7BVYXOdW0U",
        "colab_type": "code",
        "outputId": "0bfb1252-8859-4680-8a1d-6d518b56a0e9",
        "colab": {
          "base_uri": "https://localhost:8080/",
          "height": 51
        }
      },
      "cell_type": "code",
      "source": [
        "score = model.evaluate(X_test, Y_test, verbose=0)\n",
        "print(\"Test Accuracy: %.2f%%\" % (score[1]*100))\n",
        "print(\"Test Loss: %.6f\" % (score[0]))"
      ],
      "execution_count": 0,
      "outputs": [
        {
          "output_type": "stream",
          "text": [
            "Test Accuracy: 90.46%\n",
            "Test Loss: 0.354653\n"
          ],
          "name": "stdout"
        }
      ]
    },
    {
      "metadata": {
        "id": "xAwkW3kzmICG",
        "colab_type": "code",
        "outputId": "7d5fc92a-921f-48a2-a3f1-097ac3324a6a",
        "colab": {
          "base_uri": "https://localhost:8080/",
          "height": 306
        }
      },
      "cell_type": "code",
      "source": [
        "# Confusion Matrix\n",
        "print(confusion_matrix(Y_test, model.predict(X_test)))"
      ],
      "execution_count": 0,
      "outputs": [
        {
          "output_type": "stream",
          "text": [
            "Pred                LAYING  SITTING  STANDING  WALKING  WALKING_DOWNSTAIRS  \\\n",
            "True                                                                         \n",
            "LAYING                 510        0         0        0                   1   \n",
            "SITTING                  0      400        89        0                   1   \n",
            "STANDING                 0       86       446        0                   0   \n",
            "WALKING                  0        0         1      460                   2   \n",
            "WALKING_DOWNSTAIRS       0        0         0        0                 390   \n",
            "WALKING_UPSTAIRS         0        0         0       11                   0   \n",
            "\n",
            "Pred                WALKING_UPSTAIRS  \n",
            "True                                  \n",
            "LAYING                            26  \n",
            "SITTING                            1  \n",
            "STANDING                           0  \n",
            "WALKING                           33  \n",
            "WALKING_DOWNSTAIRS                30  \n",
            "WALKING_UPSTAIRS                 460  \n"
          ],
          "name": "stdout"
        }
      ]
    },
    {
      "metadata": {
        "id": "wQFLkxqBnO45",
        "colab_type": "code",
        "colab": {}
      },
      "cell_type": "code",
      "source": [
        "# Saving the result \n",
        "results.loc[results.shape[0]] = ['Initial Model', '2', '0.155331', \n",
        "                                 '94.63', '0.354653', '90.46']"
      ],
      "execution_count": 0,
      "outputs": []
    },
    {
      "metadata": {
        "id": "6ylCcNggZ1Le",
        "colab_type": "code",
        "colab": {}
      },
      "cell_type": "code",
      "source": [
        "def lstm_model(lstm_units=100, dropout_rate=0.5):\n",
        "    model = Sequential()\n",
        "    model.add(LSTM(lstm_units, input_shape=(timesteps, input_dim)))\n",
        "    model.add(Dropout(dropout_rate))\n",
        "    model.add(Dense(n_classes, activation='sigmoid'))\n",
        "    \n",
        "    model.compile(loss='categorical_crossentropy', optimizer='adam', \n",
        "                 metrics=['accuracy'])\n",
        "    return model"
      ],
      "execution_count": 0,
      "outputs": []
    },
    {
      "metadata": {
        "id": "-4PjRZ9CejM7",
        "colab_type": "code",
        "colab": {}
      },
      "cell_type": "code",
      "source": [
        "model = KerasClassifier(build_fn=lstm_model, epochs=epochs, \n",
        "                        batch_size=batch_size, verbose=0)"
      ],
      "execution_count": 0,
      "outputs": []
    },
    {
      "metadata": {
        "id": "yOlBZ3uQqspn",
        "colab_type": "code",
        "outputId": "e42937c1-8a91-41f7-c1a8-f57eb8b52ccc",
        "colab": {
          "base_uri": "https://localhost:8080/",
          "height": 34
        }
      },
      "cell_type": "code",
      "source": [
        "# lstm units will be calculated based on Nh = Ns / (c * (Ni + No))\n",
        "# c is a scaling factor that typically lies between range of [2-10]\n",
        "# Ni = 9, No = 6, Ns = 7352, Ns / 15 = 490.0\n",
        "n_hidden = [int(490.0/scale) for scale in range(2,9)]\n",
        "print(n_hidden)"
      ],
      "execution_count": 0,
      "outputs": [
        {
          "output_type": "stream",
          "text": [
            "[245, 163, 122, 98, 81, 70, 61]\n"
          ],
          "name": "stdout"
        }
      ]
    },
    {
      "metadata": {
        "id": "OFTsFCxkrY65",
        "colab_type": "code",
        "colab": {}
      },
      "cell_type": "code",
      "source": [
        "# Since gridsearch is time consuming, we will use fewer n_hidden\n",
        "# configurations which are close to the powers of 2. Also we will\n",
        "# work with cv=2.\n",
        "\n",
        "n_hidden = [128, 100, 80, 70, 64]"
      ],
      "execution_count": 0,
      "outputs": []
    },
    {
      "metadata": {
        "id": "YN3tLZfzraQ8",
        "colab_type": "code",
        "colab": {}
      },
      "cell_type": "code",
      "source": [
        "# We will pass n_hidden as param_grid to gridsearch\n",
        "\n",
        "param_grid = dict(lstm_units=n_hidden)"
      ],
      "execution_count": 0,
      "outputs": []
    },
    {
      "metadata": {
        "id": "o3U9DtFCsCKH",
        "colab_type": "code",
        "colab": {}
      },
      "cell_type": "code",
      "source": [
        "grid_model = GridSearchCV(estimator=model, param_grid=param_grid, cv=2)"
      ],
      "execution_count": 0,
      "outputs": []
    },
    {
      "metadata": {
        "id": "GyN3na9KsDuh",
        "colab_type": "code",
        "colab": {}
      },
      "cell_type": "code",
      "source": [
        "grid_result = grid_model.fit(X_train, Y_train)"
      ],
      "execution_count": 0,
      "outputs": []
    },
    {
      "metadata": {
        "id": "tj5iTi1FkSng",
        "colab_type": "code",
        "colab": {}
      },
      "cell_type": "code",
      "source": [
        "pkl.dump(grid_result, open(\"grid_result.pkl\", \"wb\")) "
      ],
      "execution_count": 0,
      "outputs": []
    },
    {
      "metadata": {
        "id": "dEfy2A_mlCCL",
        "colab_type": "code",
        "colab": {}
      },
      "cell_type": "code",
      "source": [
        "grid_result = pkl.load(open(\"grid_result.pkl\", \"rb\"))"
      ],
      "execution_count": 0,
      "outputs": []
    },
    {
      "metadata": {
        "id": "Ooeo3Fa4lJ9j",
        "colab_type": "code",
        "outputId": "7ee289ab-6c19-4709-c036-2d69b77b46c0",
        "colab": {
          "base_uri": "https://localhost:8080/",
          "height": 170
        }
      },
      "cell_type": "code",
      "source": [
        "# summarize results\n",
        "print(\"Best Accuracy: %f using %s\\n\" % (grid_result.best_score_, \n",
        "                             grid_result.best_params_))\n",
        "\n",
        "means = grid_result.cv_results_['mean_test_score']\n",
        "stds = grid_result.cv_results_['std_test_score']\n",
        "params = grid_result.cv_results_['params']\n",
        "\n",
        "print(\"\\nAccuracy  (Loss)    with: # LSTM units\")\n",
        "for mean, stdev, param in zip(means, stds, params):\n",
        "    print(\"%f (%f) with: %r\" % (mean, stdev, param))"
      ],
      "execution_count": 0,
      "outputs": [
        {
          "output_type": "stream",
          "text": [
            "Best Accuracy: 0.877720 using {'lstm_units': 100}\n",
            "\n",
            "\n",
            "Accuracy  (Loss)    with: # LSTM units\n",
            "0.742791 (0.090452) with: {'lstm_units': 128}\n",
            "0.877720 (0.000680) with: {'lstm_units': 100}\n",
            "0.504081 (0.151251) with: {'lstm_units': 80}\n",
            "0.843716 (0.010473) with: {'lstm_units': 70}\n",
            "0.676551 (0.086507) with: {'lstm_units': 64}\n"
          ],
          "name": "stdout"
        }
      ]
    },
    {
      "metadata": {
        "id": "r3DUopWkWKAj",
        "colab_type": "code",
        "colab": {}
      },
      "cell_type": "code",
      "source": [
        "# Saving the grid result \n",
        "gridcv_result.loc[gridcv_result.shape[0]] = ['# LSTM units', \n",
        "                                             '64, 70, 80, 100, 128', \n",
        "                                             '100', '87.77', '0.000680']"
      ],
      "execution_count": 0,
      "outputs": []
    },
    {
      "metadata": {
        "id": "LtCsMmSslPQk",
        "colab_type": "code",
        "colab": {}
      },
      "cell_type": "code",
      "source": [
        "# Since we obtained the best score with 100 LSTM units in LSTM\n",
        "# layer, we will try to fine tune the other parameters such as \n",
        "# dropout to see if we can improve the accuracy while keeping\n",
        "# units @ 100.\n",
        "# We were using a dropout of 0.5 in the earlier model, so we will\n",
        "# try to use [0.5, 0.6, 0.7, 0.8] since we have very less data and\n",
        "# with 100 LSTM units model can overfit easily.\n",
        "\n",
        "param_grid = dict(dropout_rate=[0.5, 0.6, 0.7, 0.8])\n",
        "grid_model = GridSearchCV(estimator=model, param_grid=param_grid, cv=2)"
      ],
      "execution_count": 0,
      "outputs": []
    },
    {
      "metadata": {
        "id": "Jw1bdk-Q-95Z",
        "colab_type": "code",
        "colab": {}
      },
      "cell_type": "code",
      "source": [
        "grid_result = grid_model.fit(X_train, Y_train)"
      ],
      "execution_count": 0,
      "outputs": []
    },
    {
      "metadata": {
        "id": "2ykEyVUQEDcT",
        "colab_type": "code",
        "outputId": "6e544cef-d56b-4e01-a541-f70fb8c5ab29",
        "colab": {
          "base_uri": "https://localhost:8080/",
          "height": 153
        }
      },
      "cell_type": "code",
      "source": [
        "# summarize results\n",
        "print(\"Best Accuracy: %f using %s\\n\" % (grid_result.best_score_, \n",
        "                             grid_result.best_params_))\n",
        "\n",
        "means = grid_result.cv_results_['mean_test_score']\n",
        "stds = grid_result.cv_results_['std_test_score']\n",
        "params = grid_result.cv_results_['params']\n",
        "\n",
        "print(\"\\nAccuracy  (Loss)    with: # Dropout Rate\")\n",
        "for mean, stdev, param in zip(means, stds, params):\n",
        "    print(\"%f (%f) with: %r\" % (mean, stdev, param))"
      ],
      "execution_count": 0,
      "outputs": [
        {
          "output_type": "stream",
          "text": [
            "Best Accuracy: 0.866295 using {'dropout_rate': 0.6}\n",
            "\n",
            "\n",
            "Accuracy  (Loss)    with: # Dropout Rate\n",
            "0.802639 (0.064880) with: {'dropout_rate': 0.5}\n",
            "0.866295 (0.017546) with: {'dropout_rate': 0.6}\n",
            "0.746328 (0.101061) with: {'dropout_rate': 0.7}\n",
            "0.605005 (0.016866) with: {'dropout_rate': 0.8}\n"
          ],
          "name": "stdout"
        }
      ]
    },
    {
      "metadata": {
        "id": "_kzJ6QbVYzq9",
        "colab_type": "code",
        "colab": {}
      },
      "cell_type": "code",
      "source": [
        "# Saving the grid result \n",
        "gridcv_result.loc[gridcv_result.shape[0]] = ['Dropout Rate', \n",
        "                                             '0.5, 0.6, 0.7, 0.8', \n",
        "                                             '0.6', '86.62', '0.017546']"
      ],
      "execution_count": 0,
      "outputs": []
    },
    {
      "metadata": {
        "id": "pxs7XdQa_Bzk",
        "colab_type": "code",
        "colab": {}
      },
      "cell_type": "code",
      "source": [
        "def lstm_model(optimizer='adam'):\n",
        "    model = Sequential()\n",
        "    model.add(LSTM(100, input_shape=(timesteps, input_dim)))\n",
        "    model.add(Dropout(0.6))\n",
        "    model.add(Dense(n_classes, activation='sigmoid'))\n",
        "    \n",
        "    model.compile(loss='categorical_crossentropy', optimizer=optimizer, \n",
        "                 metrics=['accuracy'])\n",
        "    return model"
      ],
      "execution_count": 0,
      "outputs": []
    },
    {
      "metadata": {
        "id": "ktkx1nXpVLlV",
        "colab_type": "code",
        "colab": {}
      },
      "cell_type": "code",
      "source": [
        "# define the grid search parameters\n",
        "batch_size = [10, 20, 40, 60, 80, 100]\n",
        "epochs = [20, 40, 60]\n",
        "param_grid = dict(batch_size=batch_size, epochs=epochs)"
      ],
      "execution_count": 0,
      "outputs": []
    },
    {
      "metadata": {
        "id": "dhV6FA2yV7pu",
        "colab_type": "code",
        "colab": {}
      },
      "cell_type": "code",
      "source": [
        "model = KerasClassifier(build_fn=lstm_model, verbose=0)"
      ],
      "execution_count": 0,
      "outputs": []
    },
    {
      "metadata": {
        "id": "WUgW1jFZVkli",
        "colab_type": "code",
        "colab": {}
      },
      "cell_type": "code",
      "source": [
        "grid_model = GridSearchCV(estimator=model, param_grid=param_grid, cv=2)\n",
        "grid_result = grid_model.fit(X_train, Y_train)"
      ],
      "execution_count": 0,
      "outputs": []
    },
    {
      "metadata": {
        "id": "qHFVl55RjxKE",
        "colab_type": "code",
        "outputId": "10366711-bcea-4d1d-94e8-ada96031be91",
        "colab": {
          "base_uri": "https://localhost:8080/",
          "height": 391
        }
      },
      "cell_type": "code",
      "source": [
        "# summarize results\n",
        "print(\"Best Accuracy: %f using %s\\n\" % (grid_result.best_score_, \n",
        "                             grid_result.best_params_))\n",
        "\n",
        "means = grid_result.cv_results_['mean_test_score']\n",
        "stds = grid_result.cv_results_['std_test_score']\n",
        "params = grid_result.cv_results_['params']\n",
        "\n",
        "print(\"\\nAccuracy  (Loss)    with:\\tBatch_Size \\tEpochs\")\n",
        "for mean, stdev, param in zip(means, stds, params):\n",
        "    print(\"%f (%f) with: %r\" % (mean, stdev, param))"
      ],
      "execution_count": 0,
      "outputs": [
        {
          "output_type": "stream",
          "text": [
            "Best Accuracy: 0.864255 using {'batch_size': 40, 'epochs': 60}\n",
            "\n",
            "\n",
            "Accuracy  (Loss)    with:\tBatch_Size \tEpochs\n",
            "0.552639 (0.079026) with: {'batch_size': 10, 'epochs': 20}\n",
            "0.750136 (0.105958) with: {'batch_size': 10, 'epochs': 40}\n",
            "0.856638 (0.025027) with: {'batch_size': 10, 'epochs': 60}\n",
            "0.440560 (0.084467) with: {'batch_size': 20, 'epochs': 20}\n",
            "0.696545 (0.195729) with: {'batch_size': 20, 'epochs': 40}\n",
            "0.677231 (0.098341) with: {'batch_size': 20, 'epochs': 60}\n",
            "0.447497 (0.034004) with: {'batch_size': 40, 'epochs': 20}\n",
            "0.638194 (0.015778) with: {'batch_size': 40, 'epochs': 40}\n",
            "0.864255 (0.026931) with: {'batch_size': 40, 'epochs': 60}\n",
            "0.342764 (0.003808) with: {'batch_size': 60, 'epochs': 20}\n",
            "0.569233 (0.120647) with: {'batch_size': 60, 'epochs': 40}\n",
            "0.610446 (0.018226) with: {'batch_size': 60, 'epochs': 60}\n",
            "0.403700 (0.041077) with: {'batch_size': 80, 'epochs': 20}\n",
            "0.499048 (0.132617) with: {'batch_size': 80, 'epochs': 40}\n",
            "0.584195 (0.040125) with: {'batch_size': 80, 'epochs': 60}\n",
            "0.477421 (0.061752) with: {'batch_size': 100, 'epochs': 20}\n",
            "0.389418 (0.013738) with: {'batch_size': 100, 'epochs': 40}\n",
            "0.501632 (0.144450) with: {'batch_size': 100, 'epochs': 60}\n"
          ],
          "name": "stdout"
        }
      ]
    },
    {
      "metadata": {
        "id": "nWEu0CHmZQjp",
        "colab_type": "code",
        "colab": {}
      },
      "cell_type": "code",
      "source": [
        "# Saving the grid result \n",
        "gridcv_result.loc[gridcv_result.shape[0]] = ['Batch Size / Epochs', \n",
        "                 'Batch size : 10, 20, 40, 60, 80, 100 \\n Epochs : 20, 40, 60', \n",
        "                 'Batch size : 40 \\n Epochs : 60', '86.42', '0.017546']"
      ],
      "execution_count": 0,
      "outputs": []
    },
    {
      "metadata": {
        "id": "yfM_Fv7zWEpA",
        "colab_type": "code",
        "colab": {}
      },
      "cell_type": "code",
      "source": [
        "optimizer = ['SGD', 'RMSprop', 'Adagrad', 'Adadelta', 'Adam']\n",
        "param_grid = dict(optimizer=optimizer)"
      ],
      "execution_count": 0,
      "outputs": []
    },
    {
      "metadata": {
        "id": "z9jGQotmOKgR",
        "colab_type": "code",
        "colab": {}
      },
      "cell_type": "code",
      "source": [
        "model = KerasClassifier(build_fn=lstm_model, verbose=0, \n",
        "                        batch_size=40, epochs=60)"
      ],
      "execution_count": 0,
      "outputs": []
    },
    {
      "metadata": {
        "id": "MVnLv_yXOMCQ",
        "colab_type": "code",
        "colab": {}
      },
      "cell_type": "code",
      "source": [
        "grid_model = GridSearchCV(estimator=model, param_grid=param_grid, cv=2)\n",
        "grid_result = grid_model.fit(X_train, Y_train)"
      ],
      "execution_count": 0,
      "outputs": []
    },
    {
      "metadata": {
        "id": "CcU8gn_XObRV",
        "colab_type": "code",
        "outputId": "42d66113-88f4-4db5-d85e-10928ab88e83",
        "colab": {
          "base_uri": "https://localhost:8080/",
          "height": 170
        }
      },
      "cell_type": "code",
      "source": [
        "# summarize results\n",
        "print(\"Best Accuracy: %f using %s\\n\" % (grid_result.best_score_, \n",
        "                             grid_result.best_params_))\n",
        "\n",
        "means = grid_result.cv_results_['mean_test_score']\n",
        "stds = grid_result.cv_results_['std_test_score']\n",
        "params = grid_result.cv_results_['params']\n",
        "\n",
        "print(\"\\nAccuracy  (Loss)    with:\\t Optimizer\")\n",
        "for mean, stdev, param in zip(means, stds, params):\n",
        "    print(\"%f (%f) with: %r\" % (mean, stdev, param))"
      ],
      "execution_count": 0,
      "outputs": [
        {
          "output_type": "stream",
          "text": [
            "Best Accuracy: 0.888874 using {'optimizer': 'RMSprop'}\n",
            "\n",
            "\n",
            "Accuracy  (Loss)    with:\t Optimizer\n",
            "0.461507 (0.035773) with: {'optimizer': 'SGD'}\n",
            "0.888874 (0.004489) with: {'optimizer': 'RMSprop'}\n",
            "0.764554 (0.004489) with: {'optimizer': 'Adagrad'}\n",
            "0.875272 (0.019995) with: {'optimizer': 'Adadelta'}\n",
            "0.734086 (0.022443) with: {'optimizer': 'Adam'}\n"
          ],
          "name": "stdout"
        }
      ]
    },
    {
      "metadata": {
        "id": "Z7-5TSzsaWok",
        "colab_type": "code",
        "colab": {}
      },
      "cell_type": "code",
      "source": [
        "# Saving the grid result \n",
        "gridcv_result.loc[gridcv_result.shape[0]] = ['Optimizer', \n",
        "                 'SGD, RMSprop, Adagrad, Adadelta, Adam', \n",
        "                 'RMSprop', '88.89', '.004489']"
      ],
      "execution_count": 0,
      "outputs": []
    },
    {
      "metadata": {
        "id": "rKRqjqmbOgD0",
        "colab_type": "code",
        "colab": {}
      },
      "cell_type": "code",
      "source": [
        "# Since we are not able to better 90% accuracy that we achieved with\n",
        "# n_hidden = 32 units , let's try to run the model for smaller\n",
        "# values of LSTM units.\n",
        "\n",
        "def lstm_model(lstm_units=32):\n",
        "    model = Sequential()\n",
        "    model.add(LSTM(lstm_units, input_shape=(timesteps, input_dim)))\n",
        "    model.add(Dropout(0.6))\n",
        "    model.add(Dense(n_classes, activation='sigmoid'))\n",
        "    \n",
        "    model.compile(loss='categorical_crossentropy', optimizer='RMSprop', \n",
        "                 metrics=['accuracy'])\n",
        "    return model"
      ],
      "execution_count": 0,
      "outputs": []
    },
    {
      "metadata": {
        "id": "eFKmwNynjrFf",
        "colab_type": "code",
        "colab": {}
      },
      "cell_type": "code",
      "source": [
        "lstm_units = [8, 16, 24, 32]\n",
        "param_grid = dict(lstm_units=lstm_units)"
      ],
      "execution_count": 0,
      "outputs": []
    },
    {
      "metadata": {
        "id": "Yl2kyu76j-C_",
        "colab_type": "code",
        "colab": {}
      },
      "cell_type": "code",
      "source": [
        "model = KerasClassifier(build_fn=lstm_model, verbose=0, \n",
        "                        batch_size=40, epochs=60)"
      ],
      "execution_count": 0,
      "outputs": []
    },
    {
      "metadata": {
        "id": "Mnjdl1dnkKjc",
        "colab_type": "code",
        "colab": {}
      },
      "cell_type": "code",
      "source": [
        "grid_model = GridSearchCV(estimator=model, param_grid=param_grid, cv=2)\n",
        "grid_result = grid_model.fit(X_train, Y_train)"
      ],
      "execution_count": 0,
      "outputs": []
    },
    {
      "metadata": {
        "id": "63u50iMMkwFA",
        "colab_type": "code",
        "outputId": "a12fa892-d880-4a66-8626-e21dc9e3ad28",
        "colab": {
          "base_uri": "https://localhost:8080/",
          "height": 153
        }
      },
      "cell_type": "code",
      "source": [
        "# summarize results\n",
        "print(\"Best Accuracy: %f using %s\\n\" % (grid_result.best_score_, \n",
        "                             grid_result.best_params_))\n",
        "\n",
        "means = grid_result.cv_results_['mean_test_score']\n",
        "stds = grid_result.cv_results_['std_test_score']\n",
        "params = grid_result.cv_results_['params']\n",
        "\n",
        "print(\"\\nAccuracy  (Loss)    with:\\t LSTM Units\")\n",
        "for mean, stdev, param in zip(means, stds, params):\n",
        "    print(\"%f (%f) with: %r\" % (mean, stdev, param))"
      ],
      "execution_count": 0,
      "outputs": [
        {
          "output_type": "stream",
          "text": [
            "Best Accuracy: 0.848613 using {'lstm_units': 32}\n",
            "\n",
            "\n",
            "Accuracy  (Loss)    with:\t LSTM Units\n",
            "0.625000 (0.019723) with: {'lstm_units': 8}\n",
            "0.797062 (0.071817) with: {'lstm_units': 16}\n",
            "0.757889 (0.087595) with: {'lstm_units': 24}\n",
            "0.848613 (0.028156) with: {'lstm_units': 32}\n"
          ],
          "name": "stdout"
        }
      ]
    },
    {
      "metadata": {
        "id": "iqrgbcZyjakq",
        "colab_type": "code",
        "colab": {}
      },
      "cell_type": "code",
      "source": [
        "from keras.callbacks import ModelCheckpoint\n",
        "\n",
        "# checkpoint\n",
        "filepath=\"weights.best.hdf5\"\n",
        "\n",
        "checkpoint = ModelCheckpoint(filepath, monitor='val_acc', verbose=0, \n",
        "                             save_best_only=True, mode='max')\n",
        "callbacks_list = [checkpoint]"
      ],
      "execution_count": 0,
      "outputs": []
    },
    {
      "metadata": {
        "id": "y4JBfRCBPP-n",
        "colab_type": "code",
        "outputId": "6eacd259-940c-4031-9b21-5658f7f87e24",
        "colab": {
          "base_uri": "https://localhost:8080/",
          "height": 238
        }
      },
      "cell_type": "code",
      "source": [
        "# Initiliazing the sequential model\n",
        "model = Sequential()\n",
        "# Configuring the parameters\n",
        "model.add(LSTM(100, input_shape=(timesteps, input_dim), \n",
        "               kernel_initializer='he_normal'))\n",
        "# Adding a dropout layer\n",
        "model.add(Dropout(0.6))\n",
        "# Adding a dense output layer with sigmoid activation\n",
        "model.add(Dense(n_classes, activation='sigmoid'))\n",
        "model.summary()\n",
        "\n",
        "\n",
        "model.compile(loss='categorical_crossentropy', optimizer='RMSprop', \n",
        "                 metrics=['accuracy'])\n",
        "\n",
        "# Training the model\n",
        "history = model.fit(X_train,\n",
        "          Y_train,\n",
        "          batch_size=40,\n",
        "          validation_data=(X_test, Y_test),\n",
        "          epochs=40, callbacks=callbacks_list, verbose=0)"
      ],
      "execution_count": 0,
      "outputs": [
        {
          "output_type": "stream",
          "text": [
            "_________________________________________________________________\n",
            "Layer (type)                 Output Shape              Param #   \n",
            "=================================================================\n",
            "lstm_52 (LSTM)               (None, 100)               44000     \n",
            "_________________________________________________________________\n",
            "dropout_51 (Dropout)         (None, 100)               0         \n",
            "_________________________________________________________________\n",
            "dense_51 (Dense)             (None, 6)                 606       \n",
            "=================================================================\n",
            "Total params: 44,606\n",
            "Trainable params: 44,606\n",
            "Non-trainable params: 0\n",
            "_________________________________________________________________\n"
          ],
          "name": "stdout"
        }
      ]
    },
    {
      "metadata": {
        "id": "gAW1rg30xSQs",
        "colab_type": "code",
        "colab": {}
      },
      "cell_type": "code",
      "source": [
        "# load weights\n",
        "model.load_weights(\"weights.best.hdf5\")\n",
        "weights = model.get_weights()"
      ],
      "execution_count": 0,
      "outputs": []
    },
    {
      "metadata": {
        "id": "OUD0bRsW0Kak",
        "colab_type": "code",
        "outputId": "411b78b7-ccc9-4f5c-9ee5-484c08f7c9da",
        "colab": {
          "base_uri": "https://localhost:8080/",
          "height": 284
        }
      },
      "cell_type": "code",
      "source": [
        "plot_weight_distribution(weights, hidden_layers=2)"
      ],
      "execution_count": 0,
      "outputs": [
        {
          "output_type": "display_data",
          "data": {
            "image/png": "[encoded data removed]",
            "text/plain": [
              "<Figure size 432x288 with 3 Axes>"
            ]
          },
          "metadata": {
            "tags": []
          }
        }
      ]
    },
    {
      "metadata": {
        "id": "LIpQbxqy8l0w",
        "colab_type": "code",
        "outputId": "57eca2cf-8d76-4315-8577-e427813263a3",
        "colab": {
          "base_uri": "https://localhost:8080/",
          "height": 85
        }
      },
      "cell_type": "code",
      "source": [
        "score = model.evaluate(X_train, Y_train, verbose=0)\n",
        "print('Training Accuracy : {0:.2f}%'.format(score[1]*100))\n",
        "print('Training Loss : {0:.6f}'.format(score[0]))\n",
        "\n",
        "\n",
        "score = model.evaluate(X_test, Y_test, verbose=0)\n",
        "print(\"Test Accuracy: %.2f%%\" % (score[1]*100))\n",
        "print(\"Test Loss: %.6f\" % (score[0]))"
      ],
      "execution_count": 0,
      "outputs": [
        {
          "output_type": "stream",
          "text": [
            "Training Accuracy : 95.89%\n",
            "Training Loss : 0.100544\n",
            "Test Accuracy: 92.40%\n",
            "Test Loss: 0.377630\n"
          ],
          "name": "stdout"
        }
      ]
    },
    {
      "metadata": {
        "id": "FdSW4Uxb8nAS",
        "colab_type": "code",
        "outputId": "9f9e75f5-57dd-4674-a7df-e1aee5f8da0e",
        "colab": {
          "base_uri": "https://localhost:8080/",
          "height": 284
        }
      },
      "cell_type": "code",
      "source": [
        "plot_loss(history, n_epochs=40)"
      ],
      "execution_count": 0,
      "outputs": [
        {
          "output_type": "display_data",
          "data": {
            "image/png": "[encoded data removed]",
            "text/plain": [
              "<Figure size 432x288 with 1 Axes>"
            ]
          },
          "metadata": {
            "tags": []
          }
        }
      ]
    },
    {
      "metadata": {
        "id": "PKsmPwxB8uMy",
        "colab_type": "code",
        "outputId": "eab4d30d-f10a-4461-b7e2-83051be3b89d",
        "colab": {
          "base_uri": "https://localhost:8080/",
          "height": 306
        }
      },
      "cell_type": "code",
      "source": [
        "# Confusion Matrix\n",
        "print(confusion_matrix(Y_test, model.predict(X_test)))"
      ],
      "execution_count": 0,
      "outputs": [
        {
          "output_type": "stream",
          "text": [
            "Pred                LAYING  SITTING  STANDING  WALKING  WALKING_DOWNSTAIRS  \\\n",
            "True                                                                         \n",
            "LAYING                 510        0        25        0                   0   \n",
            "SITTING                  5      411        74        0                   0   \n",
            "STANDING                 0       69       463        0                   0   \n",
            "WALKING                  0        2         1      471                  22   \n",
            "WALKING_DOWNSTAIRS       0        2         0        4                 413   \n",
            "WALKING_UPSTAIRS         0        5         0        7                   4   \n",
            "\n",
            "Pred                WALKING_UPSTAIRS  \n",
            "True                                  \n",
            "LAYING                             2  \n",
            "SITTING                            1  \n",
            "STANDING                           0  \n",
            "WALKING                            0  \n",
            "WALKING_DOWNSTAIRS                 1  \n",
            "WALKING_UPSTAIRS                 455  \n"
          ],
          "name": "stdout"
        }
      ]
    },
    {
      "metadata": {
        "id": "neFb-ft8s9E_",
        "colab_type": "code",
        "colab": {}
      },
      "cell_type": "code",
      "source": [
        "# Saving the result \n",
        "results.loc[results.shape[0]] = ['Tuned Model', '2', '0.100544', \n",
        "                                 '95.89', '0.377630', '92.40']"
      ],
      "execution_count": 0,
      "outputs": []
    },
    {
      "metadata": {
        "id": "QncyYo1icII2",
        "colab_type": "code",
        "colab": {}
      },
      "cell_type": "code",
      "source": [
        "# Saving the grid result \n",
        "hyperparam_used.loc[hyperparam_used.shape[0]] = ['Initial Model','32', '30', \n",
        "                                                 '16', \n",
        "                                                 'RMSprop', \n",
        "                                                 '0.5', 'glorot-uniform']\n",
        "\n",
        "hyperparam_used.loc[hyperparam_used.shape[0]] = ['Tuned Model', '100', '40', \n",
        "                                                 '40', 'RMSprop', \n",
        "                                                 '0.6', 'he-normal']"
      ],
      "execution_count": 0,
      "outputs": []
    },
    {
      "metadata": {
        "id": "7ftUeC2gdQTA",
        "colab_type": "text"
      },
      "cell_type": "markdown",
      "source": [
        "# Results :"
      ]
    },
    {
      "metadata": {
        "id": "onIXNA5adATh",
        "colab_type": "code",
        "outputId": "9643f78d-affd-485a-ffa2-363bf0f64898",
        "colab": {
          "base_uri": "https://localhost:8080/",
          "height": 748
        }
      },
      "cell_type": "code",
      "source": [
        "print(\"HyperParameterTuning results on Various Parameters : \\n\")\n",
        "print_results(gridcv_result)\n",
        "\n",
        "print(\"\\n\\nParameters for tuned model were chosen based on results above.\\n \")\n",
        "print(\"\\n\\nParameter Comparison :\\n\")\n",
        "\n",
        "print(\"Initial Model vs Tuned Model \\n\")\n",
        "\n",
        "print_results(hyperparam_used)\n",
        "print(\"\\n\\n\")\n",
        "\n",
        "print(\"Final Results : \\n\")\n",
        "print_results(results)"
      ],
      "execution_count": 0,
      "outputs": [
        {
          "output_type": "stream",
          "text": [
            "HyperParameterTuning results on Various Parameters : \n",
            "\n",
            "+-----------------------------+-----------------------------------------------+--------------------------+--------------------+------------------+\n",
            "|          Parameter          |                Parameter_Values               |     Best Param Value     |     Best Score     |       Loss       |\n",
            "+-----------------------------+-----------------------------------------------+--------------------------+--------------------+------------------+\n",
            "|         # LSTM units        |              64, 70, 80, 100, 128             |           100            |       87.77        |     0.000680     |\n",
            "+-----------------------------+-----------------------------------------------+--------------------------+--------------------+------------------+\n",
            "|         Dropout Rate        |               0.5, 0.6, 0.7, 0.8              |           0.6            |       86.62        |     0.017546     |\n",
            "+-----------------------------+-----------------------------------------------+--------------------------+--------------------+------------------+\n",
            "|     Batch Size / Epochs     |     Batch size : 10, 20, 40, 60, 80, 100      |     Batch size : 40      |       86.42        |     0.017546     |\n",
            "|                             |               Epochs : 20, 40, 60             |        Epochs : 60       |                    |                  |\n",
            "+-----------------------------+-----------------------------------------------+--------------------------+--------------------+------------------+\n",
            "|          Optimizer          |     SGD, RMSprop, Adagrad, Adadelta, Adam     |         RMSprop          |       88.89        |     .004489      |\n",
            "+-----------------------------+-----------------------------------------------+--------------------------+--------------------+------------------+\n",
            "\n",
            "\n",
            "Parameters for tuned model were chosen based on results above.\n",
            " \n",
            "\n",
            "\n",
            "Parameter Comparison :\n",
            "\n",
            "Initial Model vs Tuned Model \n",
            "\n",
            "+-----------------------+--------------------+----------------+--------------------+-------------------+-----------------+------------------------+\n",
            "|         Model         |     LSTM units     |     Epochs     |     Batch Size     |     Optimizer     |     Dropout     |       KernelInit       |\n",
            "+-----------------------+--------------------+----------------+--------------------+-------------------+-----------------+------------------------+\n",
            "|     Initial Model     |         32         |       30       |         16         |      RMSprop      |       0.5       |     glorot-uniform     |\n",
            "+-----------------------+--------------------+----------------+--------------------+-------------------+-----------------+------------------------+\n",
            "|      Tuned Model      |        100         |       40       |         40         |      RMSprop      |       0.6       |       he-normal        |\n",
            "+-----------------------+--------------------+----------------+--------------------+-------------------+-----------------+------------------------+\n",
            "\n",
            "\n",
            "\n",
            "Final Results : \n",
            "\n",
            "+-----------------------+-----------------------+--------------------+---------------------------+-------------------+--------------------------+\n",
            "|         Model         |     Hidden Layers     |     Train Loss     |     Train Accuracy(%)     |     Test Loss     |     Test Accuracy(%)     |\n",
            "+-----------------------+-----------------------+--------------------+---------------------------+-------------------+--------------------------+\n",
            "|     Initial Model     |           2           |      0.155331      |           94.63           |      0.354653     |          90.46           |\n",
            "+-----------------------+-----------------------+--------------------+---------------------------+-------------------+--------------------------+\n",
            "|      Tuned Model      |           2           |      0.100544      |           95.89           |      0.377630     |          92.40           |\n",
            "+-----------------------+-----------------------+--------------------+---------------------------+-------------------+--------------------------+\n"
          ],
          "name": "stdout"
        }
      ]
    },
    {
      "metadata": {
        "id": "arrTJ0PIdHoF",
        "colab_type": "text"
      },
      "cell_type": "markdown",
      "source": [
        "# Observations :"
      ]
    },
    {
      "metadata": {
        "id": "vLoDbLFGdZx-",
        "colab_type": "text"
      },
      "cell_type": "markdown",
      "source": [
        "Below mentioned approach was followed to train an LSTM network on Human Activity Recognition Dataset.\n",
        "\n",
        "We started off with an initial model which had the following architecture.\n",
        "\n",
        "1. We defined a sequential model by using Sequential() function since data flows sequentially in the network from input layer to output layer. Network had 1 LSTM layer followed by Dropout layer and a Dense softmax layer since this is a multiclass classification problem. model.add() function was used to add various layers to the network. We fixed the network parameters such as epochs to 30, batch size to 16, number of LSTM units to 32, optimizer to RMSprop, dropout to 0.5 and kernel initializer was not explicitly set so keras by default used glorot-uniform for weight initialization in LSTM layer.\n",
        "\n",
        "2. This initial model achieved an accuracy of 90.46% with a test loss of 0.3546.\n",
        "\n",
        "**Objective : ** \n",
        "\n",
        "  Our objective was to improve on the accuracy achieved by the initial model.\n",
        "\n",
        "**Steps taken to tune the hyperparameters of the initial model :**\n",
        "\n",
        "1. We initially tried various values for number of LSTM units in the LSTM layer. The number of LSTM units ranged from 8 to 128.  To get a sense of the values to try we used the formula Nh = Ns / (c * (Ni + No))\n",
        "and c is a scaling factor that typically lies between range of [2-10]. Nh is the number of units. Ns is the number of data points. Ni is number of inputs and No is number of outputs. This gave us a sense of what values can be tried for LSTM units. We didn't run the model with exact values but took nearby values, some of which were powers of 2 for runtime performance reasons. Gridsearch was used to perform hyperparameter tuning. From the gridsearch results we observed that 100 LSTM units gave the best accuracy.\n",
        "\n",
        "\n",
        "2. We fixed the LSTM units to 100 and tried to tune the dropout rate. Since the number of training samples is less, network can easily overfit to training data with higher number of LSTM units. So we tried higher values of dropout rate ranging from 0.5 to 0.8. From the gridsearch results we observed that dropout rate of 0.6 gave the best accuracy.\n",
        "\n",
        "\n",
        "3. We fixed the LSTM units to 100 and dropout rate to 0.6 and tried to tune the batch size and epochs. Given the fact that LSTM's are pretty sensitive to batch size and epochs, we tried various combinations of batch size and epochs. From the gridsearch results we observed that batch size of 40 and epochs value of 60 gave the best accuracy.\n",
        "\n",
        "\n",
        "4. Now we fixed the LSTM units to 100, dropout rate to 0.6, batch size to 40, epochs to 60 and tried to tune the optimizer. It was observed that of various optimizers such as Adam, RMSprop, AdaDelta, SGD and AdaGrad, RMSprop produced the best results. So optimizer was fixed to RMSprop.\n",
        "\n",
        "\n",
        "5. Also it was observed that weight intitialization performed using he-normal performed much better than the default golorot-uniform initialization.\n",
        "\n",
        "\n",
        "6. After tuning the values of various hyperparameters, we built a new model which had the following architecture.\n",
        "\n",
        "Input \n",
        "\n",
        "          --> LSTM layer (100 LSTM units, he-normal weight initialization) \n",
        "\n",
        "          --> Dropout Layer (dropout rate = 0.6)\n",
        "          \n",
        "          --> Output Softmax Layer (sigmoid activation)\n",
        "          \n",
        "Output\n",
        "\n",
        "\n",
        "Categorical cross entropy was used as a loss metric and Accuracy was used as a performance metric.\n",
        "RMSprop was used as optimizer for adaptive learning rate.\n",
        "\n",
        "We used keras call back function ModelCheckpoint to save the learnt weights for the final model to keep track of degrading model performance with increasing epochs after a point.\n",
        "\n",
        "With tuned parameters we observed an accuracy of 92.40% which is a fair improvement over 90.46% that out initial model yielded.\n",
        "\n",
        "Confusion matrix for both initial model and tuned model indicate that initial model was confused between sitting and standing as well as made a lot of errors when it predicted the class to be walking upstairs.\n",
        "Our tuned model greatly reduced the confusion regarding walking upstairs and also reduced the confusion between sitting and standing.\n",
        "\n",
        "\n",
        "Weight plot of final trained model weight seem fairly contained in a small range.\n",
        "\n",
        "\n",
        "**Conclusion : **\n",
        "\n",
        "Accuracy of tuned model was 92.40% and weight initialization as well as optimizer choice greatly affected the performance of the model."
      ]
    },
    {
      "metadata": {
        "id": "xuMWCP0Pndys",
        "colab_type": "code",
        "colab": {}
      },
      "cell_type": "code",
      "source": [
        ""
      ],
      "execution_count": 0,
      "outputs": []
    }
  ]
}